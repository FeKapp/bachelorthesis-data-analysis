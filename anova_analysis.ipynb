{
 "cells": [
  {
   "cell_type": "code",
   "execution_count": 1,
   "id": "ee92085a",
   "metadata": {},
   "outputs": [],
   "source": [
    "import pandas as pd\n",
    "import numpy as np\n",
    "import matplotlib.pyplot as plt\n",
    "import statsmodels.api as sm\n",
    "from statsmodels.formula.api import ols"
   ]
  },
  {
   "cell_type": "markdown",
   "id": "89f57657",
   "metadata": {},
   "source": [
    "## Load data and transform "
   ]
  },
  {
   "cell_type": "code",
   "execution_count": 9,
   "id": "af444c7a",
   "metadata": {},
   "outputs": [
    {
     "data": {
      "application/vnd.microsoft.datawrangler.viewer.v0+json": {
       "columns": [
        {
         "name": "index",
         "rawType": "int64",
         "type": "integer"
        },
        {
         "name": "allocation_fund_a",
         "rawType": "int64",
         "type": "integer"
        },
        {
         "name": "part1",
         "rawType": "object",
         "type": "string"
        },
        {
         "name": "part2",
         "rawType": "object",
         "type": "string"
        }
       ],
       "conversionMethod": "pd.DataFrame",
       "ref": "d13c7f66-e58b-4d9b-a49e-a51a9f6df279",
       "rows": [
        [
         "0",
         "50",
         "long",
         "biased"
        ],
        [
         "1",
         "50",
         "long",
         "unbiased"
        ],
        [
         "2",
         "30",
         "short",
         "biased"
        ],
        [
         "3",
         "10",
         "short",
         "unbiased"
        ],
        [
         "4",
         "40",
         "long",
         "biased"
        ],
        [
         "5",
         "50",
         "long",
         "unbiased"
        ],
        [
         "6",
         "0",
         "short",
         "biased"
        ],
        [
         "7",
         "40",
         "short",
         "unbiased"
        ],
        [
         "8",
         "42",
         "long",
         "biased"
        ],
        [
         "9",
         "60",
         "long",
         "unbiased"
        ],
        [
         "10",
         "50",
         "short",
         "biased"
        ],
        [
         "11",
         "20",
         "short",
         "unbiased"
        ],
        [
         "12",
         "30",
         "long",
         "biased"
        ],
        [
         "13",
         "40",
         "long",
         "unbiased"
        ],
        [
         "14",
         "39",
         "short",
         "biased"
        ],
        [
         "15",
         "70",
         "short",
         "unbiased"
        ],
        [
         "16",
         "38",
         "long",
         "biased"
        ],
        [
         "17",
         "5",
         "long",
         "unbiased"
        ],
        [
         "18",
         "50",
         "short",
         "biased"
        ],
        [
         "19",
         "50",
         "short",
         "unbiased"
        ],
        [
         "20",
         "52",
         "long",
         "biased"
        ],
        [
         "21",
         "30",
         "long",
         "unbiased"
        ],
        [
         "22",
         "35",
         "short",
         "biased"
        ],
        [
         "23",
         "25",
         "short",
         "unbiased"
        ],
        [
         "24",
         "0",
         "long",
         "biased"
        ],
        [
         "25",
         "50",
         "long",
         "unbiased"
        ],
        [
         "26",
         "30",
         "short",
         "biased"
        ],
        [
         "27",
         "50",
         "short",
         "unbiased"
        ],
        [
         "28",
         "50",
         "long",
         "biased"
        ],
        [
         "29",
         "76",
         "long",
         "unbiased"
        ],
        [
         "30",
         "50",
         "short",
         "unbiased"
        ],
        [
         "31",
         "0",
         "long",
         "biased"
        ],
        [
         "32",
         "50",
         "long",
         "unbiased"
        ],
        [
         "33",
         "60",
         "short",
         "biased"
        ],
        [
         "34",
         "50",
         "short",
         "unbiased"
        ],
        [
         "35",
         "30",
         "long",
         "biased"
        ],
        [
         "36",
         "50",
         "long",
         "unbiased"
        ],
        [
         "37",
         "50",
         "short",
         "biased"
        ],
        [
         "38",
         "50",
         "short",
         "unbiased"
        ],
        [
         "39",
         "60",
         "long",
         "biased"
        ],
        [
         "40",
         "70",
         "long",
         "unbiased"
        ],
        [
         "41",
         "65",
         "short",
         "biased"
        ],
        [
         "42",
         "50",
         "short",
         "unbiased"
        ],
        [
         "43",
         "100",
         "long",
         "biased"
        ],
        [
         "44",
         "50",
         "long",
         "unbiased"
        ],
        [
         "45",
         "49",
         "short",
         "biased"
        ],
        [
         "46",
         "80",
         "short",
         "unbiased"
        ],
        [
         "47",
         "0",
         "long",
         "biased"
        ],
        [
         "48",
         "0",
         "long",
         "unbiased"
        ],
        [
         "49",
         "25",
         "short",
         "biased"
        ]
       ],
       "shape": {
        "columns": 3,
        "rows": 77
       }
      },
      "text/html": [
       "<div>\n",
       "<style scoped>\n",
       "    .dataframe tbody tr th:only-of-type {\n",
       "        vertical-align: middle;\n",
       "    }\n",
       "\n",
       "    .dataframe tbody tr th {\n",
       "        vertical-align: top;\n",
       "    }\n",
       "\n",
       "    .dataframe thead th {\n",
       "        text-align: right;\n",
       "    }\n",
       "</style>\n",
       "<table border=\"1\" class=\"dataframe\">\n",
       "  <thead>\n",
       "    <tr style=\"text-align: right;\">\n",
       "      <th></th>\n",
       "      <th>allocation_fund_a</th>\n",
       "      <th>part1</th>\n",
       "      <th>part2</th>\n",
       "    </tr>\n",
       "  </thead>\n",
       "  <tbody>\n",
       "    <tr>\n",
       "      <th>0</th>\n",
       "      <td>50</td>\n",
       "      <td>long</td>\n",
       "      <td>biased</td>\n",
       "    </tr>\n",
       "    <tr>\n",
       "      <th>1</th>\n",
       "      <td>50</td>\n",
       "      <td>long</td>\n",
       "      <td>unbiased</td>\n",
       "    </tr>\n",
       "    <tr>\n",
       "      <th>2</th>\n",
       "      <td>30</td>\n",
       "      <td>short</td>\n",
       "      <td>biased</td>\n",
       "    </tr>\n",
       "    <tr>\n",
       "      <th>3</th>\n",
       "      <td>10</td>\n",
       "      <td>short</td>\n",
       "      <td>unbiased</td>\n",
       "    </tr>\n",
       "    <tr>\n",
       "      <th>4</th>\n",
       "      <td>40</td>\n",
       "      <td>long</td>\n",
       "      <td>biased</td>\n",
       "    </tr>\n",
       "    <tr>\n",
       "      <th>...</th>\n",
       "      <td>...</td>\n",
       "      <td>...</td>\n",
       "      <td>...</td>\n",
       "    </tr>\n",
       "    <tr>\n",
       "      <th>72</th>\n",
       "      <td>50</td>\n",
       "      <td>short</td>\n",
       "      <td>unbiased</td>\n",
       "    </tr>\n",
       "    <tr>\n",
       "      <th>73</th>\n",
       "      <td>50</td>\n",
       "      <td>long</td>\n",
       "      <td>biased</td>\n",
       "    </tr>\n",
       "    <tr>\n",
       "      <th>74</th>\n",
       "      <td>30</td>\n",
       "      <td>long</td>\n",
       "      <td>unbiased</td>\n",
       "    </tr>\n",
       "    <tr>\n",
       "      <th>75</th>\n",
       "      <td>0</td>\n",
       "      <td>short</td>\n",
       "      <td>biased</td>\n",
       "    </tr>\n",
       "    <tr>\n",
       "      <th>76</th>\n",
       "      <td>30</td>\n",
       "      <td>short</td>\n",
       "      <td>unbiased</td>\n",
       "    </tr>\n",
       "  </tbody>\n",
       "</table>\n",
       "<p>77 rows × 3 columns</p>\n",
       "</div>"
      ],
      "text/plain": [
       "    allocation_fund_a  part1     part2\n",
       "0                  50   long    biased\n",
       "1                  50   long  unbiased\n",
       "2                  30  short    biased\n",
       "3                  10  short  unbiased\n",
       "4                  40   long    biased\n",
       "..                ...    ...       ...\n",
       "72                 50  short  unbiased\n",
       "73                 50   long    biased\n",
       "74                 30   long  unbiased\n",
       "75                  0  short    biased\n",
       "76                 30  short  unbiased\n",
       "\n",
       "[77 rows x 3 columns]"
      ]
     },
     "execution_count": 9,
     "metadata": {},
     "output_type": "execute_result"
    }
   ],
   "source": [
    "df_raw = pd.read_csv('data/anova/Supabase Snippet Retrieve Valid Session Allocations (1).csv')\n",
    "df = df_raw.drop(['trial_sequence_id', 'session_id'], axis=1)\n",
    "df[['part1', 'part2']] = df['scenario_name'].str.split('_', expand=True)\n",
    "df = df.drop('scenario_name', axis=1)\n",
    "\n",
    "df"
   ]
  },
  {
   "cell_type": "markdown",
   "id": "b4fe8dc6",
   "metadata": {},
   "source": [
    "## Data Summary"
   ]
  },
  {
   "cell_type": "code",
   "execution_count": 10,
   "id": "d74dbdb6",
   "metadata": {},
   "outputs": [
    {
     "data": {
      "application/vnd.microsoft.datawrangler.viewer.v0+json": {
       "columns": [
        {
         "name": "index",
         "rawType": "int64",
         "type": "integer"
        },
        {
         "name": "part1",
         "rawType": "object",
         "type": "string"
        },
        {
         "name": "part2",
         "rawType": "object",
         "type": "string"
        },
        {
         "name": "count",
         "rawType": "int64",
         "type": "integer"
        },
        {
         "name": "mean",
         "rawType": "float64",
         "type": "float"
        },
        {
         "name": "std",
         "rawType": "float64",
         "type": "float"
        },
        {
         "name": "se",
         "rawType": "float64",
         "type": "float"
        }
       ],
       "conversionMethod": "pd.DataFrame",
       "ref": "602c7498-333b-41c5-b80c-3ad0dbed625e",
       "rows": [
        [
         "0",
         "long",
         "biased",
         "20",
         "38.8",
         "25.266162102076784",
         "5.649685599077267"
        ],
        [
         "1",
         "long",
         "unbiased",
         "19",
         "45.1578947368421",
         "25.364592902300153",
         "5.819036695009231"
        ],
        [
         "2",
         "short",
         "biased",
         "19",
         "45.8421052631579",
         "23.807709204034303",
         "5.461863078820457"
        ],
        [
         "3",
         "short",
         "unbiased",
         "19",
         "50.26315789473684",
         "19.823785111334082",
         "4.547888209409024"
        ]
       ],
       "shape": {
        "columns": 6,
        "rows": 4
       }
      },
      "text/html": [
       "<div>\n",
       "<style scoped>\n",
       "    .dataframe tbody tr th:only-of-type {\n",
       "        vertical-align: middle;\n",
       "    }\n",
       "\n",
       "    .dataframe tbody tr th {\n",
       "        vertical-align: top;\n",
       "    }\n",
       "\n",
       "    .dataframe thead th {\n",
       "        text-align: right;\n",
       "    }\n",
       "</style>\n",
       "<table border=\"1\" class=\"dataframe\">\n",
       "  <thead>\n",
       "    <tr style=\"text-align: right;\">\n",
       "      <th></th>\n",
       "      <th>part1</th>\n",
       "      <th>part2</th>\n",
       "      <th>count</th>\n",
       "      <th>mean</th>\n",
       "      <th>std</th>\n",
       "      <th>se</th>\n",
       "    </tr>\n",
       "  </thead>\n",
       "  <tbody>\n",
       "    <tr>\n",
       "      <th>0</th>\n",
       "      <td>long</td>\n",
       "      <td>biased</td>\n",
       "      <td>20</td>\n",
       "      <td>38.800000</td>\n",
       "      <td>25.266162</td>\n",
       "      <td>5.649686</td>\n",
       "    </tr>\n",
       "    <tr>\n",
       "      <th>1</th>\n",
       "      <td>long</td>\n",
       "      <td>unbiased</td>\n",
       "      <td>19</td>\n",
       "      <td>45.157895</td>\n",
       "      <td>25.364593</td>\n",
       "      <td>5.819037</td>\n",
       "    </tr>\n",
       "    <tr>\n",
       "      <th>2</th>\n",
       "      <td>short</td>\n",
       "      <td>biased</td>\n",
       "      <td>19</td>\n",
       "      <td>45.842105</td>\n",
       "      <td>23.807709</td>\n",
       "      <td>5.461863</td>\n",
       "    </tr>\n",
       "    <tr>\n",
       "      <th>3</th>\n",
       "      <td>short</td>\n",
       "      <td>unbiased</td>\n",
       "      <td>19</td>\n",
       "      <td>50.263158</td>\n",
       "      <td>19.823785</td>\n",
       "      <td>4.547888</td>\n",
       "    </tr>\n",
       "  </tbody>\n",
       "</table>\n",
       "</div>"
      ],
      "text/plain": [
       "   part1     part2  count       mean        std        se\n",
       "0   long    biased     20  38.800000  25.266162  5.649686\n",
       "1   long  unbiased     19  45.157895  25.364593  5.819037\n",
       "2  short    biased     19  45.842105  23.807709  5.461863\n",
       "3  short  unbiased     19  50.263158  19.823785  4.547888"
      ]
     },
     "execution_count": 10,
     "metadata": {},
     "output_type": "execute_result"
    }
   ],
   "source": [
    "summary = df.groupby(['part1', 'part2'])['allocation_fund_a'].agg(['size', 'mean', 'std']).rename(columns={'size':'count'}).reset_index()\n",
    "summary['se'] = summary['std'] / np.sqrt(summary['count'])\n",
    "\n",
    "summary\n"
   ]
  },
  {
   "cell_type": "markdown",
   "id": "615e85ef",
   "metadata": {},
   "source": [
    "## Distribution analysis"
   ]
  },
  {
   "cell_type": "code",
   "execution_count": 7,
   "id": "b2e43b13",
   "metadata": {},
   "outputs": [
    {
     "data": {
      "image/png": "[encoded data removed]",
      "text/plain": [
       "<Figure size 640x480 with 1 Axes>"
      ]
     },
     "metadata": {},
     "output_type": "display_data"
    },
    {
     "data": {
      "image/png": "[encoded data removed]",
      "text/plain": [
       "<Figure size 640x480 with 1 Axes>"
      ]
     },
     "metadata": {},
     "output_type": "display_data"
    },
    {
     "data": {
      "image/png": "[encoded data removed]",
      "text/plain": [
       "<Figure size 640x480 with 1 Axes>"
      ]
     },
     "metadata": {},
     "output_type": "display_data"
    },
    {
     "data": {
      "image/png": "[encoded data removed]",
      "text/plain": [
       "<Figure size 640x480 with 1 Axes>"
      ]
     },
     "metadata": {},
     "output_type": "display_data"
    }
   ],
   "source": [
    "for (p1, p2), group in df.groupby(['part1', 'part2']):\n",
    "    plt.figure()\n",
    "    plt.hist(group['allocation_fund_a'], bins='auto')\n",
    "    plt.xlabel('Allocation to Fund A')\n",
    "    plt.ylabel('Count')\n",
    "    plt.title(f'Histogram: {p1}-{p2}')\n",
    "    plt.tight_layout()\n",
    "    plt.show()"
   ]
  },
  {
   "cell_type": "markdown",
   "id": "19642381",
   "metadata": {},
   "source": [
    "## Box Plot"
   ]
  },
  {
   "cell_type": "code",
   "execution_count": 11,
   "id": "dafecf55",
   "metadata": {},
   "outputs": [
    {
     "data": {
      "image/png": "[encoded data removed]",
      "text/plain": [
       "<Figure size 640x480 with 1 Axes>"
      ]
     },
     "metadata": {},
     "output_type": "display_data"
    }
   ],
   "source": [
    "grouped = df.groupby(['part1','part2'])['allocation_fund_a'].apply(list)\n",
    "labels = [f\"{i[0]}_{i[1]}\" for i in grouped.index]\n",
    "plt.figure(); plt.boxplot(grouped.values); plt.xticks(range(1,len(labels)+1), labels, rotation=45)\n",
    "plt.xlabel('Group'); plt.ylabel('Allocation to Fund A'); plt.title('Boxplot by Group (Dataset 2)'); plt.tight_layout(); plt.show()"
   ]
  },
  {
   "cell_type": "markdown",
   "id": "9f676dce",
   "metadata": {},
   "source": [
    "## Interaction Plot"
   ]
  },
  {
   "cell_type": "code",
   "execution_count": 12,
   "id": "e0159019",
   "metadata": {},
   "outputs": [
    {
     "data": {
      "image/png": "[encoded data removed]",
      "text/plain": [
       "<Figure size 640x480 with 1 Axes>"
      ]
     },
     "metadata": {},
     "output_type": "display_data"
    }
   ],
   "source": [
    "means = df.groupby(['part1','part2'])['allocation_fund_a'].mean().unstack('part2')\n",
    "plt.figure()\n",
    "for lvl in means.columns:\n",
    "    plt.plot(means.index, means[lvl], marker='o', label=lvl)\n",
    "plt.xlabel('part1'); plt.ylabel('Mean Allocation'); plt.title('Interaction Plot (Dataset 2)'); plt.legend(title='part2'); plt.tight_layout(); plt.show()"
   ]
  }
 ],
 "metadata": {
  "kernelspec": {
   "display_name": "venv",
   "language": "python",
   "name": "python3"
  },
  "language_info": {
   "codemirror_mode": {
    "name": "ipython",
    "version": 3
   },
   "file_extension": ".py",
   "mimetype": "text/x-python",
   "name": "python",
   "nbconvert_exporter": "python",
   "pygments_lexer": "ipython3",
   "version": "3.13.0"
  }
 },
 "nbformat": 4,
 "nbformat_minor": 5
}
